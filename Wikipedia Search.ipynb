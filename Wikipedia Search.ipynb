{
 "cells": [
  {
   "cell_type": "code",
   "execution_count": 1,
   "metadata": {},
   "outputs": [],
   "source": [
    "import requests\n",
    "from urllib.request import urlopen as ureq #naming urlopen function from library urllib.request as ureq\n",
    "from bs4 import BeautifulSoup as soup \n",
    "import win32com.client as wincl\n",
    "spk=wincl.Dispatch(\"SAPI.SpVoice\")"
   ]
  },
  {
   "cell_type": "code",
   "execution_count": 2,
   "metadata": {},
   "outputs": [
    {
     "name": "stdout",
     "output_type": "stream",
     "text": [
      "Enter a keyword:weather\n",
      "https://en.wikipedia.org/wiki/Weather\n"
     ]
    },
    {
     "data": {
      "text/plain": [
       "33"
      ]
     },
     "execution_count": 2,
     "metadata": {},
     "output_type": "execute_result"
    }
   ],
   "source": [
    "search = input(\"Enter a keyword:\").replace(\" \",\"_\").title()\n",
    "url = \"https://en.wikipedia.org/wiki/\" + search\n",
    "print(url)\n",
    "client = ureq(url)\n",
    "client  #stores all data from url link in client\n",
    "\n",
    "page_html = client.read()  #whole website data(backend code) will be stored in page_html\n",
    "client.close()\n",
    "page_html\n",
    "page_soup = soup(page_html,\"html.parser\")  #parser is used to transfer html language into python readable language\n",
    "page_soup\n",
    "\n",
    "\n",
    "articles = page_soup.findAll(\"p\")\n",
    "len(articles)"
   ]
  },
  {
   "cell_type": "code",
   "execution_count": null,
   "metadata": {},
   "outputs": [
    {
     "name": "stdout",
     "output_type": "stream",
     "text": [
      "1 \n",
      "\n",
      "2 Weather is the state of the atmosphere, describing for example the degree to which it is hot or cold, wet or dry, calm or stormy, clear or cloudy.[1] On Earth, most weather phenomena occur in the lowest layer of the planet's atmosphere, the troposphere,[2][3] just below the stratosphere. Weather refers to day-to-day temperature, precipitation, and other atmospheric conditions, whereas climate is the term for the averaging of atmospheric conditions over longer periods of time.[4] When used without qualification, \"weather\" is generally understood to mean the weather of Earth.\n",
      "\n",
      "3 Weather is driven by air pressure, temperature, and moisture differences between one place and another. These differences can occur due to the Sun's angle at any particular spot, which varies with latitude. The strong temperature contrast between polar and tropical air gives rise to the largest scale atmospheric circulations: the Hadley cell, the Ferrel cell, the polar cell, and the jet stream.  Weather systems in the middle latitudes, such as extratropical cyclones, are caused by instabilities of the jet streamflow.  Because Earth's axis is tilted relative to its orbital plane (called the ecliptic), sunlight is incident at different angles at different times of the year. On Earth's surface, temperatures usually range ±40 °C (−40 °F to 104 °F) annually. Over thousands of years, changes in Earth's orbit can affect the amount and distribution of solar energy received by Earth, thus influencing long-term climate and global climate change.\n",
      "\n"
     ]
    }
   ],
   "source": [
    "i=1\n",
    "for x in articles:\n",
    "    para=x.text\n",
    "    #para=x.find(\"p\").text\n",
    "    print(i,para)\n",
    "    spk.Speak(para)\n",
    "    #print(\"\\n\",para)\n",
    "    #spk.Speak(para)\n",
    "    i=i+1"
   ]
  },
  {
   "cell_type": "code",
   "execution_count": null,
   "metadata": {},
   "outputs": [],
   "source": []
  }
 ],
 "metadata": {
  "kernelspec": {
   "display_name": "Python 3 (ipykernel)",
   "language": "python",
   "name": "python3"
  },
  "language_info": {
   "codemirror_mode": {
    "name": "ipython",
    "version": 3
   },
   "file_extension": ".py",
   "mimetype": "text/x-python",
   "name": "python",
   "nbconvert_exporter": "python",
   "pygments_lexer": "ipython3",
   "version": "3.9.12"
  }
 },
 "nbformat": 4,
 "nbformat_minor": 2
}
